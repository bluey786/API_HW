{
 "cells": [
  {
   "cell_type": "markdown",
   "metadata": {},
   "source": [
    "# WeatherPy\n",
    "----\n",
    "\n",
    "#### Note\n",
    "* Instructions have been included for each segment. You do not have to follow them exactly, but they are included to help you think through the steps."
   ]
  },
  {
   "cell_type": "code",
   "execution_count": 1,
   "metadata": {
    "scrolled": true
   },
   "outputs": [],
   "source": [
    "# Dependencies and Setup\n",
    "import matplotlib.pyplot as plt\n",
    "import pandas as pd\n",
    "import numpy as np\n",
    "import requests\n",
    "import time\n",
    "from scipy.stats import linregress\n",
    "\n",
    "# Import API key\n",
    "from api_keys import weather_api_key\n",
    "\n",
    "# Incorporated citipy to determine city based on latitude and longitude\n",
    "from citipy import citipy\n",
    "\n",
    "# Output File (CSV)\n",
    "output_data_file = \"output_data/cities.csv\"\n",
    "\n",
    "# Range of latitudes and longitudes\n",
    "lat_range = (-90, 90)\n",
    "lng_range = (-180, 180)"
   ]
  },
  {
   "cell_type": "markdown",
   "metadata": {},
   "source": [
    "## Generate Cities List"
   ]
  },
  {
   "cell_type": "code",
   "execution_count": 2,
   "metadata": {},
   "outputs": [
    {
     "data": {
      "text/plain": [
       "610"
      ]
     },
     "execution_count": 2,
     "metadata": {},
     "output_type": "execute_result"
    }
   ],
   "source": [
    "# List for holding lat_lngs and cities\n",
    "lat_lngs = []\n",
    "cities = []\n",
    "\n",
    "# Create a set of random lat and lng combinations\n",
    "lats = np.random.uniform(lat_range[0], lat_range[1], size=1500)\n",
    "lngs = np.random.uniform(lng_range[0], lng_range[1], size=1500)\n",
    "lat_lngs = zip(lats, lngs)\n",
    "\n",
    "# Identify nearest city for each lat, lng combination\n",
    "for lat_lng in lat_lngs:\n",
    "    city = citipy.nearest_city(lat_lng[0], lat_lng[1]).city_name\n",
    "    \n",
    "    # If the city is unique, then add it to a our cities list\n",
    "    if city not in cities:\n",
    "        cities.append(city)\n",
    "\n",
    "# Print the city count to confirm sufficient count\n",
    "len(cities)"
   ]
  },
  {
   "cell_type": "markdown",
   "metadata": {},
   "source": [
    "### Perform API Calls\n",
    "* Perform a weather check on each city using a series of successive API calls.\n",
    "* Include a print log of each city as it'sbeing processed (with the city number and city name).\n"
   ]
  },
  {
   "cell_type": "code",
   "execution_count": null,
   "metadata": {},
   "outputs": [],
   "source": [
    "weather_api_key = \"f6d978171a47f5bce5d1e68eb6bb9dcf\"\n",
    "\n",
    "requests.get(f\"http://api.openweathermap.org/data/2.5/weather?units=Imperial&APPID={weather_api_key}&q={city}\").json()"
   ]
  },
  {
   "cell_type": "code",
   "execution_count": 38,
   "metadata": {},
   "outputs": [
    {
     "name": "stdout",
     "output_type": "stream",
     "text": [
      "Beginning Data Retrieval\n",
      "------------------------\n",
      "Missing data in city number 1 of 610. | Skipping longlac\n",
      "City number 2 of 610 complete. | Added hongjiang\n",
      "City number 3 of 610 complete. | Added mataura\n",
      "City number 4 of 610 complete. | Added longyearbyen\n",
      "City number 5 of 610 complete. | Added ostrovnoy\n",
      "City number 6 of 610 complete. | Added rikitea\n",
      "City number 7 of 610 complete. | Added ushuaia\n",
      "City number 8 of 610 complete. | Added tuktoyaktuk\n",
      "City number 9 of 610 complete. | Added saskylakh\n",
      "City number 10 of 610 complete. | Added tasiilaq\n",
      "City number 11 of 610 complete. | Added el tigre\n",
      "City number 12 of 610 complete. | Added hasaki\n",
      "City number 13 of 610 complete. | Added katsuura\n",
      "City number 14 of 610 complete. | Added kapaa\n",
      "City number 15 of 610 complete. | Added sitka\n",
      "City number 16 of 610 complete. | Added busselton\n",
      "City number 17 of 610 complete. | Added provideniya\n",
      "City number 18 of 610 complete. | Added bethel\n",
      "City number 19 of 610 complete. | Added cockburn town\n",
      "City number 20 of 610 complete. | Added port elizabeth\n",
      "City number 21 of 610 complete. | Added shingu\n",
      "City number 22 of 610 complete. | Added arraial do cabo\n",
      "City number 23 of 610 complete. | Added punta arenas\n",
      "City number 24 of 610 complete. | Added dukat\n",
      "City number 25 of 610 complete. | Added avarua\n",
      "Missing data in city number 26 of 610. | Skipping bargal\n",
      "City number 27 of 610 complete. | Added selikhino\n",
      "City number 28 of 610 complete. | Added karratha\n",
      "City number 29 of 610 complete. | Added vaini\n",
      "City number 30 of 610 complete. | Added east london\n",
      "City number 31 of 610 complete. | Added mar del plata\n",
      "City number 32 of 610 complete. | Added castro\n",
      "City number 33 of 610 complete. | Added khatanga\n",
      "City number 34 of 610 complete. | Added esperance\n",
      "City number 35 of 610 complete. | Added dauphin\n",
      "City number 36 of 610 complete. | Added aklavik\n",
      "City number 37 of 610 complete. | Added gat\n",
      "City number 38 of 610 complete. | Added bredasdorp\n",
      "City number 39 of 610 complete. | Added bluff\n",
      "City number 40 of 610 complete. | Added kasane\n",
      "City number 41 of 610 complete. | Added hilo\n",
      "City number 42 of 610 complete. | Added uchiza\n",
      "City number 43 of 610 complete. | Added kijang\n",
      "City number 44 of 610 complete. | Added ribeira grande\n",
      "City number 45 of 610 complete. | Added airai\n",
      "City number 46 of 610 complete. | Added amapa\n",
      "Missing data in city number 47 of 610. | Skipping belushya guba\n",
      "City number 48 of 610 complete. | Added deputatskiy\n",
      "City number 49 of 610 complete. | Added seymchan\n",
      "City number 50 of 610 complete. | Added dubbo\n",
      "City number 51 of 610 complete. | Added albany\n",
      "City number 52 of 610 complete. | Added jamestown\n",
      "Missing data in city number 53 of 610. | Skipping halalo\n",
      "City number 54 of 610 complete. | Added mount gambier\n",
      "City number 55 of 610 complete. | Added bengkulu\n",
      "City number 56 of 610 complete. | Added le port\n",
      "City number 57 of 610 complete. | Added alpena\n",
      "City number 58 of 610 complete. | Added tautira\n",
      "City number 59 of 610 complete. | Added saint-philippe\n",
      "City number 60 of 610 complete. | Added san patricio\n",
      "City number 61 of 610 complete. | Added alice springs\n",
      "City number 62 of 610 complete. | Added butaritari\n",
      "City number 63 of 610 complete. | Added padang\n",
      "City number 64 of 610 complete. | Added bathsheba\n",
      "Missing data in city number 65 of 610. | Skipping grand river south east\n",
      "City number 66 of 610 complete. | Added puri\n",
      "City number 67 of 610 complete. | Added carnarvon\n",
      "City number 68 of 610 complete. | Added zhezkazgan\n",
      "City number 69 of 610 complete. | Added boshnyakovo\n",
      "City number 70 of 610 complete. | Added torbay\n",
      "Missing data in city number 71 of 610. | Skipping taolanaro\n",
      "City number 72 of 610 complete. | Added oktyabrskoye\n",
      "City number 73 of 610 complete. | Added bitung\n",
      "City number 74 of 610 complete. | Added staszow\n",
      "City number 75 of 610 complete. | Added berlevag\n",
      "City number 76 of 610 complete. | Added bandarbeyla\n",
      "City number 77 of 610 complete. | Added thompson\n",
      "City number 78 of 610 complete. | Added nichinan\n",
      "City number 79 of 610 complete. | Added san jose\n",
      "City number 80 of 610 complete. | Added kieta\n",
      "City number 81 of 610 complete. | Added mahibadhoo\n",
      "City number 82 of 610 complete. | Added korla\n",
      "Missing data in city number 83 of 610. | Skipping amderma\n",
      "City number 84 of 610 complete. | Added yushala\n",
      "City number 85 of 610 complete. | Added baracoa\n",
      "City number 86 of 610 complete. | Added clyde river\n",
      "City number 87 of 610 complete. | Added cape town\n",
      "City number 88 of 610 complete. | Added hamilton\n",
      "City number 89 of 610 complete. | Added saint george\n",
      "City number 90 of 610 complete. | Added lasa\n",
      "City number 91 of 610 complete. | Added aksu\n",
      "City number 92 of 610 complete. | Added tiksi\n",
      "Missing data in city number 93 of 610. | Skipping santa eulalia del rio\n",
      "City number 94 of 610 complete. | Added brest\n",
      "City number 95 of 610 complete. | Added santa rosalia\n",
      "City number 96 of 610 complete. | Added kavieng\n",
      "City number 97 of 610 complete. | Added pochutla\n",
      "City number 98 of 610 complete. | Added mareeba\n",
      "City number 99 of 610 complete. | Added kalmunai\n",
      "City number 100 of 610 complete. | Added bambous virieux\n",
      "City number 101 of 610 complete. | Added lorengau\n",
      "City number 102 of 610 complete. | Added wenatchee\n",
      "City number 103 of 610 complete. | Added leningradskiy\n",
      "Missing data in city number 104 of 610. | Skipping vaitupu\n",
      "City number 105 of 610 complete. | Added binghamton\n",
      "Missing data in city number 106 of 610. | Skipping barentsburg\n",
      "City number 107 of 610 complete. | Added libreville\n",
      "City number 108 of 610 complete. | Added vanimo\n",
      "City number 109 of 610 complete. | Added nikolskoye\n",
      "City number 110 of 610 complete. | Added new norfolk\n",
      "City number 111 of 610 complete. | Added severo-kurilsk\n",
      "City number 112 of 610 complete. | Added richards bay\n",
      "City number 113 of 610 complete. | Added paamiut\n",
      "City number 114 of 610 complete. | Added yulara\n",
      "City number 115 of 610 complete. | Added poum\n",
      "City number 116 of 610 complete. | Added kaitangata\n",
      "City number 117 of 610 complete. | Added atuona\n",
      "City number 118 of 610 complete. | Added georgetown\n",
      "City number 119 of 610 complete. | Added navalcarnero\n",
      "City number 120 of 610 complete. | Added san quintin\n",
      "City number 121 of 610 complete. | Added lebu\n",
      "City number 122 of 610 complete. | Added cidreira\n",
      "City number 123 of 610 complete. | Added lusambo\n",
      "City number 124 of 610 complete. | Added beira\n",
      "City number 125 of 610 complete. | Added chokurdakh\n",
      "City number 126 of 610 complete. | Added chabahar\n",
      "City number 127 of 610 complete. | Added saint-pierre\n",
      "City number 128 of 610 complete. | Added asau\n",
      "City number 129 of 610 complete. | Added upernavik\n",
      "City number 130 of 610 complete. | Added petropavlovsk-kamchatskiy\n",
      "City number 131 of 610 complete. | Added meulaboh\n",
      "City number 132 of 610 complete. | Added goderich\n",
      "City number 133 of 610 complete. | Added mgachi\n",
      "City number 134 of 610 complete. | Added xiamen\n",
      "City number 135 of 610 complete. | Added northam\n",
      "Missing data in city number 136 of 610. | Skipping mys shmidta\n",
      "City number 137 of 610 complete. | Added mosquera\n",
      "City number 138 of 610 complete. | Added port lincoln\n",
      "City number 139 of 610 complete. | Added kapoeta\n",
      "City number 140 of 610 complete. | Added norman wells\n",
      "City number 141 of 610 complete. | Added lompoc\n",
      "City number 142 of 610 complete. | Added sioux lookout\n",
      "City number 143 of 610 complete. | Added bara\n",
      "City number 144 of 610 complete. | Added husavik\n",
      "City number 145 of 610 complete. | Added hithadhoo\n",
      "City number 146 of 610 complete. | Added hobart\n",
      "City number 147 of 610 complete. | Added ulcinj\n",
      "City number 148 of 610 complete. | Added boca do acre\n",
      "City number 149 of 610 complete. | Added puerto ayora\n",
      "Missing data in city number 150 of 610. | Skipping tsihombe\n",
      "City number 151 of 610 complete. | Added samana\n",
      "City number 152 of 610 complete. | Added ixtapa\n",
      "City number 153 of 610 complete. | Added hermanus\n",
      "City number 154 of 610 complete. | Added nicoya\n",
      "City number 155 of 610 complete. | Added miguel auza\n",
      "City number 156 of 610 complete. | Added birao\n",
      "Missing data in city number 157 of 610. | Skipping umzimvubu\n",
      "City number 158 of 610 complete. | Added aswan\n",
      "City number 159 of 610 complete. | Added port alfred\n",
      "City number 160 of 610 complete. | Added simojovel\n",
      "City number 161 of 610 complete. | Added dikson\n"
     ]
    },
    {
     "name": "stdout",
     "output_type": "stream",
     "text": [
      "City number 162 of 610 complete. | Added allonnes\n",
      "City number 163 of 610 complete. | Added harrai\n",
      "City number 164 of 610 complete. | Added montague\n",
      "City number 165 of 610 complete. | Added limbazi\n",
      "City number 166 of 610 complete. | Added revelstoke\n",
      "City number 167 of 610 complete. | Added codrington\n",
      "City number 168 of 610 complete. | Added belaya gora\n",
      "City number 169 of 610 complete. | Added borbon\n",
      "City number 170 of 610 complete. | Added fairbanks\n",
      "City number 171 of 610 complete. | Added san policarpo\n",
      "City number 172 of 610 complete. | Added kahului\n",
      "City number 173 of 610 complete. | Added qasigiannguit\n",
      "City number 174 of 610 complete. | Added weihai\n",
      "City number 175 of 610 complete. | Added whitehorse\n",
      "City number 176 of 610 complete. | Added tabuk\n",
      "City number 177 of 610 complete. | Added coihaique\n",
      "City number 178 of 610 complete. | Added cayenne\n",
      "City number 179 of 610 complete. | Added kodiak\n",
      "City number 180 of 610 complete. | Added sibu\n",
      "City number 181 of 610 complete. | Added hoi an\n",
      "City number 182 of 610 complete. | Added klaksvik\n",
      "Missing data in city number 183 of 610. | Skipping yanan\n",
      "City number 184 of 610 complete. | Added endwell\n",
      "City number 185 of 610 complete. | Added iqaluit\n",
      "City number 186 of 610 complete. | Added tuatapere\n",
      "City number 187 of 610 complete. | Added ancud\n",
      "City number 188 of 610 complete. | Added san joaquin\n",
      "City number 189 of 610 complete. | Added tigre\n",
      "City number 190 of 610 complete. | Added luancheng\n",
      "City number 191 of 610 complete. | Added yar-sale\n",
      "City number 192 of 610 complete. | Added grindavik\n",
      "City number 193 of 610 complete. | Added srednekolymsk\n",
      "City number 194 of 610 complete. | Added morehead\n",
      "City number 195 of 610 complete. | Added namatanai\n",
      "City number 196 of 610 complete. | Added olinda\n",
      "City number 197 of 610 complete. | Added pangnirtung\n",
      "City number 198 of 610 complete. | Added junction city\n",
      "City number 199 of 610 complete. | Added brokopondo\n",
      "City number 200 of 610 complete. | Added vrangel\n",
      "City number 201 of 610 complete. | Added chuy\n",
      "City number 202 of 610 complete. | Added nambucca heads\n",
      "City number 203 of 610 complete. | Added prainha\n",
      "City number 204 of 610 complete. | Added sabang\n",
      "City number 205 of 610 complete. | Added independencia\n",
      "City number 206 of 610 complete. | Added talovaya\n",
      "City number 207 of 610 complete. | Added tianpeng\n",
      "City number 208 of 610 complete. | Added iracoubo\n",
      "City number 209 of 610 complete. | Added maku\n",
      "City number 210 of 610 complete. | Added campoverde\n",
      "Missing data in city number 211 of 610. | Skipping saleaula\n",
      "City number 212 of 610 complete. | Added kuah\n",
      "Missing data in city number 213 of 610. | Skipping karkaralinsk\n",
      "City number 214 of 610 complete. | Added evensk\n",
      "City number 215 of 610 complete. | Added constitucion\n",
      "City number 216 of 610 complete. | Added tilichiki\n",
      "City number 217 of 610 complete. | Added russell\n",
      "Missing data in city number 218 of 610. | Skipping burica\n",
      "City number 219 of 610 complete. | Added bagalkot\n",
      "City number 220 of 610 complete. | Added kiunga\n",
      "City number 221 of 610 complete. | Added galesong\n",
      "City number 222 of 610 complete. | Added port blair\n",
      "City number 223 of 610 complete. | Added kokstad\n",
      "City number 224 of 610 complete. | Added verkhoyansk\n",
      "City number 225 of 610 complete. | Added sao jose da coroa grande\n",
      "City number 226 of 610 complete. | Added yellowknife\n",
      "City number 227 of 610 complete. | Added sao joao da barra\n",
      "City number 228 of 610 complete. | Added luderitz\n",
      "City number 229 of 610 complete. | Added sarkand\n",
      "City number 230 of 610 complete. | Added vao\n",
      "City number 231 of 610 complete. | Added santa maria\n",
      "City number 232 of 610 complete. | Added sinnamary\n",
      "City number 233 of 610 complete. | Added xuanzhou\n",
      "City number 234 of 610 complete. | Added san cristobal\n",
      "City number 235 of 610 complete. | Added phan thiet\n",
      "City number 236 of 610 complete. | Added novokizhinginsk\n",
      "City number 237 of 610 complete. | Added albertville\n",
      "City number 238 of 610 complete. | Added kailua\n",
      "City number 239 of 610 complete. | Added poya\n",
      "City number 240 of 610 complete. | Added mancio lima\n",
      "City number 241 of 610 complete. | Added makakilo city\n",
      "City number 242 of 610 complete. | Added krasnoselkup\n",
      "City number 243 of 610 complete. | Added kantemirovka\n",
      "City number 244 of 610 complete. | Added victoria\n",
      "City number 245 of 610 complete. | Added williamsburg\n",
      "City number 246 of 610 complete. | Added gimli\n",
      "City number 247 of 610 complete. | Added ponta do sol\n",
      "City number 248 of 610 complete. | Added kuusankoski\n",
      "City number 249 of 610 complete. | Added hualmay\n",
      "Missing data in city number 250 of 610. | Skipping barawe\n",
      "City number 251 of 610 complete. | Added solhan\n",
      "City number 252 of 610 complete. | Added harper\n",
      "City number 253 of 610 complete. | Added ahipara\n",
      "Missing data in city number 254 of 610. | Skipping aybak\n",
      "City number 255 of 610 complete. | Added hokitika\n",
      "City number 256 of 610 complete. | Added pokhara\n",
      "City number 257 of 610 complete. | Added nuqui\n",
      "City number 258 of 610 complete. | Added lakes entrance\n",
      "City number 259 of 610 complete. | Added tabory\n",
      "City number 260 of 610 complete. | Added margate\n",
      "City number 261 of 610 complete. | Added mirandela\n",
      "City number 262 of 610 complete. | Added saucillo\n",
      "City number 263 of 610 complete. | Added sibi\n",
      "City number 264 of 610 complete. | Added muroto\n",
      "City number 265 of 610 complete. | Added ambilobe\n",
      "City number 266 of 610 complete. | Added pevek\n",
      "City number 267 of 610 complete. | Added tezu\n",
      "City number 268 of 610 complete. | Added tekkali\n",
      "City number 269 of 610 complete. | Added maceio\n",
      "City number 270 of 610 complete. | Added brae\n",
      "City number 271 of 610 complete. | Added port macquarie\n",
      "City number 272 of 610 complete. | Added catamarca\n",
      "City number 273 of 610 complete. | Added tsiroanomandidy\n",
      "City number 274 of 610 complete. | Added waipawa\n",
      "City number 275 of 610 complete. | Added augustow\n",
      "City number 276 of 610 complete. | Added inhambane\n",
      "City number 277 of 610 complete. | Added caravelas\n",
      "City number 278 of 610 complete. | Added qaanaaq\n",
      "City number 279 of 610 complete. | Added la rioja\n",
      "City number 280 of 610 complete. | Added mogadishu\n",
      "City number 281 of 610 complete. | Added aksarka\n",
      "City number 282 of 610 complete. | Added tabou\n",
      "City number 283 of 610 complete. | Added irtyshskiy\n",
      "City number 284 of 610 complete. | Added vila franca do campo\n",
      "City number 285 of 610 complete. | Added payson\n",
      "City number 286 of 610 complete. | Added sydney\n",
      "Missing data in city number 287 of 610. | Skipping bolungarvik\n",
      "City number 288 of 610 complete. | Added acapulco\n",
      "City number 289 of 610 complete. | Added merrill\n",
      "City number 290 of 610 complete. | Added bonavista\n",
      "City number 291 of 610 complete. | Added tutoia\n",
      "City number 292 of 610 complete. | Added ilulissat\n",
      "City number 293 of 610 complete. | Added mandalgovi\n",
      "City number 294 of 610 complete. | Added puerto narino\n",
      "City number 295 of 610 complete. | Added san javier\n",
      "City number 296 of 610 complete. | Added saldanha\n",
      "City number 297 of 610 complete. | Added banda aceh\n",
      "City number 298 of 610 complete. | Added sohna\n",
      "City number 299 of 610 complete. | Added omsukchan\n",
      "City number 300 of 610 complete. | Added shimoda\n",
      "City number 301 of 610 complete. | Added hambantota\n",
      "City number 302 of 610 complete. | Added roma\n",
      "City number 303 of 610 complete. | Added buala\n",
      "City number 304 of 610 complete. | Added barrow\n",
      "City number 305 of 610 complete. | Added maumere\n",
      "City number 306 of 610 complete. | Added progreso\n",
      "City number 307 of 610 complete. | Added ketchikan\n",
      "City number 308 of 610 complete. | Added isangel\n",
      "City number 309 of 610 complete. | Added beringovskiy\n",
      "City number 310 of 610 complete. | Added biu\n",
      "City number 311 of 610 complete. | Added qaqortoq\n",
      "City number 312 of 610 complete. | Added havre-saint-pierre\n",
      "City number 313 of 610 complete. | Added bilma\n",
      "City number 314 of 610 complete. | Added kahramanmaras\n",
      "City number 315 of 610 complete. | Added quatre cocos\n",
      "City number 316 of 610 complete. | Added katobu\n",
      "City number 317 of 610 complete. | Added kavaratti\n",
      "Missing data in city number 318 of 610. | Skipping illoqqortoormiut\n",
      "City number 319 of 610 complete. | Added araouane\n",
      "City number 320 of 610 complete. | Added kapit\n",
      "City number 321 of 610 complete. | Added buenos aires\n",
      "Missing data in city number 322 of 610. | Skipping tabiauea\n"
     ]
    },
    {
     "name": "stdout",
     "output_type": "stream",
     "text": [
      "City number 323 of 610 complete. | Added sosva\n",
      "City number 324 of 610 complete. | Added port-gentil\n",
      "City number 325 of 610 complete. | Added bocas del toro\n",
      "City number 326 of 610 complete. | Added shellbrook\n",
      "City number 327 of 610 complete. | Added cabo san lucas\n",
      "City number 328 of 610 complete. | Added talnakh\n",
      "City number 329 of 610 complete. | Added sao filipe\n",
      "City number 330 of 610 complete. | Added teya\n",
      "City number 331 of 610 complete. | Added ponta delgada\n",
      "City number 332 of 610 complete. | Added narsaq\n",
      "City number 333 of 610 complete. | Added bayan\n",
      "City number 334 of 610 complete. | Added moindou\n",
      "City number 335 of 610 complete. | Added henties bay\n",
      "City number 336 of 610 complete. | Added sesori\n",
      "Missing data in city number 337 of 610. | Skipping eskasem\n",
      "City number 338 of 610 complete. | Added akureyri\n",
      "City number 339 of 610 complete. | Added san felipe\n",
      "Missing data in city number 340 of 610. | Skipping satitoa\n",
      "Missing data in city number 341 of 610. | Skipping falealupo\n",
      "City number 342 of 610 complete. | Added rovaniemi\n",
      "City number 343 of 610 complete. | Added batesville\n",
      "City number 344 of 610 complete. | Added samarai\n",
      "Missing data in city number 345 of 610. | Skipping kamenskoye\n",
      "City number 346 of 610 complete. | Added praia da vitoria\n",
      "City number 347 of 610 complete. | Added sokoto\n",
      "City number 348 of 610 complete. | Added vestmannaeyjar\n",
      "City number 349 of 610 complete. | Added los llanos de aridane\n",
      "City number 350 of 610 complete. | Added cherskiy\n",
      "City number 351 of 610 complete. | Added catuday\n",
      "City number 352 of 610 complete. | Added avera\n",
      "City number 353 of 610 complete. | Added tessalit\n",
      "City number 354 of 610 complete. | Added jining\n",
      "City number 355 of 610 complete. | Added kununurra\n",
      "City number 356 of 610 complete. | Added terra santa\n",
      "City number 357 of 610 complete. | Added acarau\n",
      "City number 358 of 610 complete. | Added chulman\n",
      "City number 359 of 610 complete. | Added osa\n",
      "City number 360 of 610 complete. | Added derzhavinsk\n",
      "City number 361 of 610 complete. | Added vesyegonsk\n",
      "City number 362 of 610 complete. | Added tukrah\n",
      "City number 363 of 610 complete. | Added surt\n",
      "City number 364 of 610 complete. | Added akonolinga\n",
      "City number 365 of 610 complete. | Added egvekinot\n",
      "City number 366 of 610 complete. | Added colac\n",
      "City number 367 of 610 complete. | Added wattegama\n",
      "City number 368 of 610 complete. | Added katherine\n",
      "City number 369 of 610 complete. | Added talaya\n",
      "City number 370 of 610 complete. | Added raymond\n",
      "Missing data in city number 371 of 610. | Skipping yirol\n",
      "City number 372 of 610 complete. | Added komsomolskiy\n",
      "City number 373 of 610 complete. | Added steamboat springs\n",
      "City number 374 of 610 complete. | Added kautokeino\n",
      "City number 375 of 610 complete. | Added puerto quijarro\n",
      "City number 376 of 610 complete. | Added kamina\n",
      "City number 377 of 610 complete. | Added ambanja\n",
      "Missing data in city number 378 of 610. | Skipping lolua\n",
      "City number 379 of 610 complete. | Added hobyo\n",
      "City number 380 of 610 complete. | Added santa lucia\n",
      "Missing data in city number 381 of 610. | Skipping nizhneyansk\n",
      "City number 382 of 610 complete. | Added ndele\n",
      "City number 383 of 610 complete. | Added souillac\n",
      "City number 384 of 610 complete. | Added dinan\n",
      "City number 385 of 610 complete. | Added bud\n",
      "City number 386 of 610 complete. | Added cabacao\n",
      "City number 387 of 610 complete. | Added abapo\n",
      "City number 388 of 610 complete. | Added aguimes\n",
      "City number 389 of 610 complete. | Added prince rupert\n",
      "Missing data in city number 390 of 610. | Skipping tanshui\n",
      "City number 391 of 610 complete. | Added saint anthony\n",
      "City number 392 of 610 complete. | Added bend\n",
      "City number 393 of 610 complete. | Added rocha\n",
      "Missing data in city number 394 of 610. | Skipping richard toll\n",
      "City number 395 of 610 complete. | Added laguna\n",
      "City number 396 of 610 complete. | Added yamethin\n",
      "City number 397 of 610 complete. | Added kawalu\n",
      "City number 398 of 610 complete. | Added merauke\n",
      "City number 399 of 610 complete. | Added takoradi\n",
      "City number 400 of 610 complete. | Added westport\n",
      "City number 401 of 610 complete. | Added tripoli\n",
      "City number 402 of 610 complete. | Added dwarka\n",
      "City number 403 of 610 complete. | Added bambamarca\n",
      "City number 404 of 610 complete. | Added kingman\n",
      "Missing data in city number 405 of 610. | Skipping teneguiban\n",
      "City number 406 of 610 complete. | Added wasilla\n",
      "City number 407 of 610 complete. | Added kiruna\n",
      "City number 408 of 610 complete. | Added ginir\n",
      "City number 409 of 610 complete. | Added smirnykh\n",
      "City number 410 of 610 complete. | Added mzimba\n",
      "City number 411 of 610 complete. | Added nouadhibou\n",
      "City number 412 of 610 complete. | Added la tuque\n",
      "Missing data in city number 413 of 610. | Skipping tekkalakota\n",
      "City number 414 of 610 complete. | Added baijiantan\n",
      "City number 415 of 610 complete. | Added ovalle\n",
      "City number 416 of 610 complete. | Added bay-khaak\n",
      "City number 417 of 610 complete. | Added comodoro rivadavia\n",
      "City number 418 of 610 complete. | Added osypenko\n",
      "City number 419 of 610 complete. | Added alofi\n",
      "City number 420 of 610 complete. | Added novoderevyankovskaya\n",
      "City number 421 of 610 complete. | Added damietta\n",
      "City number 422 of 610 complete. | Added bartica\n",
      "City number 423 of 610 complete. | Added mirnyy\n",
      "City number 424 of 610 complete. | Added san andres\n",
      "City number 425 of 610 complete. | Added hofn\n",
      "City number 426 of 610 complete. | Added mount isa\n",
      "City number 427 of 610 complete. | Added mahebourg\n",
      "City number 428 of 610 complete. | Added norwalk\n",
      "Missing data in city number 429 of 610. | Skipping meyungs\n",
      "City number 430 of 610 complete. | Added atar\n",
      "City number 431 of 610 complete. | Added zhob\n",
      "City number 432 of 610 complete. | Added ierapetra\n",
      "City number 433 of 610 complete. | Added faanui\n",
      "City number 434 of 610 complete. | Added camacupa\n",
      "City number 435 of 610 complete. | Added moyale\n",
      "City number 436 of 610 complete. | Added wajir\n",
      "City number 437 of 610 complete. | Added soyo\n",
      "City number 438 of 610 complete. | Added sabzevar\n",
      "City number 439 of 610 complete. | Added pisco\n",
      "City number 440 of 610 complete. | Added puerto del rosario\n",
      "City number 441 of 610 complete. | Added touros\n",
      "City number 442 of 610 complete. | Added labrea\n",
      "City number 443 of 610 complete. | Added kirkwall\n",
      "City number 444 of 610 complete. | Added shelburne\n",
      "Missing data in city number 445 of 610. | Skipping karauzyak\n",
      "City number 446 of 610 complete. | Added nanortalik\n",
      "Missing data in city number 447 of 610. | Skipping haibowan\n",
      "City number 448 of 610 complete. | Added polovinnoye\n",
      "Missing data in city number 449 of 610. | Skipping marcona\n",
      "City number 450 of 610 complete. | Added deta\n",
      "Missing data in city number 451 of 610. | Skipping galiwinku\n",
      "City number 452 of 610 complete. | Added beatrice\n",
      "City number 453 of 610 complete. | Added antofagasta\n",
      "City number 454 of 610 complete. | Added urumqi\n",
      "City number 455 of 610 complete. | Added camacha\n",
      "City number 456 of 610 complete. | Added carbonia\n",
      "City number 457 of 610 complete. | Added sisimiut\n",
      "City number 458 of 610 complete. | Added udachnyy\n",
      "City number 459 of 610 complete. | Added obihiro\n",
      "Missing data in city number 460 of 610. | Skipping attawapiskat\n",
      "City number 461 of 610 complete. | Added sibolga\n",
      "City number 462 of 610 complete. | Added tecoanapa\n",
      "City number 463 of 610 complete. | Added talara\n",
      "City number 464 of 610 complete. | Added berdigestyakh\n",
      "City number 465 of 610 complete. | Added bogande\n",
      "City number 466 of 610 complete. | Added cabedelo\n",
      "City number 467 of 610 complete. | Added cabrera\n",
      "City number 468 of 610 complete. | Added san carlos\n",
      "City number 469 of 610 complete. | Added uni\n",
      "City number 470 of 610 complete. | Added te anau\n",
      "Missing data in city number 471 of 610. | Skipping toliary\n",
      "City number 472 of 610 complete. | Added berdychiv\n",
      "City number 473 of 610 complete. | Added sao felix do xingu\n",
      "City number 474 of 610 complete. | Added yerbogachen\n",
      "City number 475 of 610 complete. | Added bilibino\n",
      "City number 476 of 610 complete. | Added solnechnyy\n",
      "City number 477 of 610 complete. | Added chicama\n",
      "City number 478 of 610 complete. | Added joensuu\n",
      "City number 479 of 610 complete. | Added soe\n",
      "City number 480 of 610 complete. | Added vermes\n",
      "City number 481 of 610 complete. | Added boa vista\n",
      "City number 482 of 610 complete. | Added banjar\n",
      "Missing data in city number 483 of 610. | Skipping wulanhaote\n"
     ]
    },
    {
     "name": "stdout",
     "output_type": "stream",
     "text": [
      "City number 484 of 610 complete. | Added necochea\n",
      "City number 485 of 610 complete. | Added parana\n",
      "City number 486 of 610 complete. | Added jiexiu\n",
      "City number 487 of 610 complete. | Added verkhnyaya inta\n",
      "City number 488 of 610 complete. | Added kourou\n",
      "City number 489 of 610 complete. | Added vila velha\n",
      "City number 490 of 610 complete. | Added lagoa\n",
      "City number 491 of 610 complete. | Added maine-soroa\n",
      "City number 492 of 610 complete. | Added yatou\n",
      "City number 493 of 610 complete. | Added kibondo\n",
      "City number 494 of 610 complete. | Added kropotkin\n",
      "City number 495 of 610 complete. | Added monrovia\n",
      "City number 496 of 610 complete. | Added santa cruz\n",
      "City number 497 of 610 complete. | Added mamallapuram\n",
      "City number 498 of 610 complete. | Added tateyama\n",
      "City number 499 of 610 complete. | Added mandurah\n",
      "City number 500 of 610 complete. | Added eyl\n",
      "City number 501 of 610 complete. | Added huejuquilla el alto\n",
      "City number 502 of 610 complete. | Added naryan-mar\n",
      "City number 503 of 610 complete. | Added bowen\n",
      "City number 504 of 610 complete. | Added agadez\n",
      "City number 505 of 610 complete. | Added espinosa\n",
      "City number 506 of 610 complete. | Added baykit\n",
      "City number 507 of 610 complete. | Added girua\n",
      "City number 508 of 610 complete. | Added novobiryusinskiy\n",
      "City number 509 of 610 complete. | Added berberati\n",
      "Missing data in city number 510 of 610. | Skipping palabuhanratu\n",
      "City number 511 of 610 complete. | Added forestville\n",
      "City number 512 of 610 complete. | Added rio gallegos\n",
      "City number 513 of 610 complete. | Added zaykovo\n",
      "City number 514 of 610 complete. | Added nyagan\n",
      "City number 515 of 610 complete. | Added charters towers\n",
      "City number 516 of 610 complete. | Added emba\n",
      "City number 517 of 610 complete. | Added rapla\n",
      "City number 518 of 610 complete. | Added nyrob\n",
      "City number 519 of 610 complete. | Added surgut\n",
      "City number 520 of 610 complete. | Added yokadouma\n",
      "City number 521 of 610 complete. | Added eirunepe\n",
      "City number 522 of 610 complete. | Added fortuna\n",
      "City number 523 of 610 complete. | Added kosonsoy\n",
      "City number 524 of 610 complete. | Added puerto leguizamo\n",
      "City number 525 of 610 complete. | Added naze\n",
      "City number 526 of 610 complete. | Added zhigansk\n",
      "City number 527 of 610 complete. | Added wamba\n",
      "City number 528 of 610 complete. | Added ust-tsilma\n",
      "City number 529 of 610 complete. | Added pacific grove\n",
      "City number 530 of 610 complete. | Added college\n",
      "Missing data in city number 531 of 610. | Skipping formoso do araguaia\n",
      "City number 532 of 610 complete. | Added sakhipur\n",
      "City number 533 of 610 complete. | Added zhangjiakou\n",
      "City number 534 of 610 complete. | Added madang\n",
      "City number 535 of 610 complete. | Added landerneau\n",
      "City number 536 of 610 complete. | Added kamakhyanagar\n",
      "City number 537 of 610 complete. | Added hvide sande\n",
      "City number 538 of 610 complete. | Added akyab\n",
      "City number 539 of 610 complete. | Added ulladulla\n",
      "City number 540 of 610 complete. | Added sonoita\n",
      "City number 541 of 610 complete. | Added riyadh\n",
      "City number 542 of 610 complete. | Added anadyr\n",
      "City number 543 of 610 complete. | Added haines junction\n",
      "City number 544 of 610 complete. | Added mecca\n",
      "City number 545 of 610 complete. | Added makubetsu\n",
      "City number 546 of 610 complete. | Added muzhi\n",
      "City number 547 of 610 complete. | Added adrar\n",
      "City number 548 of 610 complete. | Added pietarsaari\n",
      "City number 549 of 610 complete. | Added niagara falls\n",
      "City number 550 of 610 complete. | Added sibiti\n",
      "City number 551 of 610 complete. | Added nuuk\n",
      "City number 552 of 610 complete. | Added umm lajj\n",
      "City number 553 of 610 complete. | Added nguruka\n",
      "City number 554 of 610 complete. | Added caceres\n",
      "City number 555 of 610 complete. | Added geraldton\n",
      "City number 556 of 610 complete. | Added puerto rico\n",
      "Missing data in city number 557 of 610. | Skipping felidhoo\n",
      "City number 558 of 610 complete. | Added puro\n",
      "City number 559 of 610 complete. | Added gondanglegi\n",
      "City number 560 of 610 complete. | Added mungwi\n",
      "City number 561 of 610 complete. | Added alihe\n",
      "City number 562 of 610 complete. | Added havelock\n",
      "City number 563 of 610 complete. | Added cadillac\n",
      "City number 564 of 610 complete. | Added yacuiba\n",
      "City number 565 of 610 complete. | Added mlimba\n",
      "Missing data in city number 566 of 610. | Skipping paradwip\n",
      "City number 567 of 610 complete. | Added baruun-urt\n",
      "City number 568 of 610 complete. | Added turtas\n",
      "City number 569 of 610 complete. | Added bonfim\n",
      "City number 570 of 610 complete. | Added burnie\n",
      "City number 571 of 610 complete. | Added hervey bay\n",
      "City number 572 of 610 complete. | Added golden\n",
      "City number 573 of 610 complete. | Added kruisfontein\n",
      "City number 574 of 610 complete. | Added pasni\n",
      "City number 575 of 610 complete. | Added vardo\n",
      "City number 576 of 610 complete. | Added umm kaddadah\n",
      "City number 577 of 610 complete. | Added valle de allende\n",
      "Missing data in city number 578 of 610. | Skipping sentyabrskiy\n",
      "City number 579 of 610 complete. | Added kaabong\n",
      "City number 580 of 610 complete. | Added malters\n",
      "City number 581 of 610 complete. | Added broome\n",
      "City number 582 of 610 complete. | Added salalah\n",
      "City number 583 of 610 complete. | Added tongliao\n",
      "City number 584 of 610 complete. | Added tazovskiy\n",
      "City number 585 of 610 complete. | Added minden\n",
      "Missing data in city number 586 of 610. | Skipping samusu\n",
      "City number 587 of 610 complete. | Added coahuayana\n",
      "City number 588 of 610 complete. | Added usinsk\n",
      "City number 589 of 610 complete. | Added gushikawa\n",
      "City number 590 of 610 complete. | Added walvis bay\n",
      "City number 591 of 610 complete. | Added bauchi\n",
      "City number 592 of 610 complete. | Added diamantino\n",
      "City number 593 of 610 complete. | Added cabra\n",
      "City number 594 of 610 complete. | Added noumea\n",
      "City number 595 of 610 complete. | Added rey bouba\n",
      "Missing data in city number 596 of 610. | Skipping kegayli\n",
      "City number 597 of 610 complete. | Added las vegas\n",
      "City number 598 of 610 complete. | Added kuliyapitiya\n",
      "City number 599 of 610 complete. | Added ciudad bolivar\n",
      "City number 600 of 610 complete. | Added cervo\n",
      "City number 601 of 610 complete. | Added gao\n",
      "City number 602 of 610 complete. | Added tulun\n",
      "City number 603 of 610 complete. | Added lulea\n",
      "City number 604 of 610 complete. | Added bogdanovich\n",
      "City number 605 of 610 complete. | Added popondetta\n",
      "City number 606 of 610 complete. | Added sembabule\n",
      "City number 607 of 610 complete. | Added lieksa\n",
      "City number 608 of 610 complete. | Added kuytun\n",
      "Missing data in city number 609 of 610. | Skipping rolim de moura\n",
      "City number 610 of 610 complete. | Added pucallpa\n",
      "------------------------------\n",
      "End of Records\n",
      "------------------------------\n"
     ]
    }
   ],
   "source": [
    "url = f'http://api.openweathermap.org/data/2.5/weather&appid={weather_api_key}+?={city}'\n",
    "\n",
    "number = 1\n",
    "\n",
    "city_name = []\n",
    "long = []\n",
    "lat = []\n",
    "max_temp = []\n",
    "humidity = []\n",
    "clouds = []\n",
    "wind_speed = []\n",
    "date = []\n",
    "\n",
    "print('Beginning Data Retrieval')\n",
    "print('------------------------')\n",
    "\n",
    "for city in cities:\n",
    "    try:\n",
    "        city_data = requests.get(f\"http://api.openweathermap.org/data/2.5/weather?units=Imperial&APPID={weather_api_key}&q={city}\").json()\n",
    "        city_name.append(city_data['name'])\n",
    "        long.append(city_data['coord']['lon'])\n",
    "        lat.append(city_data['coord']['lat'])\n",
    "        max_temp.append(city_data['main']['temp_max'])\n",
    "        humidity.append(city_data['main']['humidity'])\n",
    "        clouds.append(city_data['clouds']['all'])\n",
    "        wind_speed.append(city_data['wind']['speed'])\n",
    "        date.append(city_data['dt'])\n",
    "        print(f'City number {number} of {len(cities)} complete. | Added {city}')\n",
    "        number = number + 1\n",
    "        \n",
    "    except KeyError:\n",
    "        print(f'Missing data in city number {number} of {len(cities)}. | Skipping {city}')\n",
    "        number = number + 1\n",
    "        \n",
    "print('------------------------------')\n",
    "print('End of Records')\n",
    "print('------------------------------')"
   ]
  },
  {
   "cell_type": "markdown",
   "metadata": {},
   "source": [
    "### Convert Raw Data to DataFrame\n",
    "* Export the city data into a .csv.\n",
    "* Display the DataFrame"
   ]
  },
  {
   "cell_type": "code",
   "execution_count": 6,
   "metadata": {},
   "outputs": [
    {
     "data": {
      "text/html": [
       "<div>\n",
       "<style scoped>\n",
       "    .dataframe tbody tr th:only-of-type {\n",
       "        vertical-align: middle;\n",
       "    }\n",
       "\n",
       "    .dataframe tbody tr th {\n",
       "        vertical-align: top;\n",
       "    }\n",
       "\n",
       "    .dataframe thead th {\n",
       "        text-align: right;\n",
       "    }\n",
       "</style>\n",
       "<table border=\"1\" class=\"dataframe\">\n",
       "  <thead>\n",
       "    <tr style=\"text-align: right;\">\n",
       "      <th></th>\n",
       "      <th>City</th>\n",
       "      <th>Latitude</th>\n",
       "      <th>Longitude</th>\n",
       "      <th>Temperature</th>\n",
       "      <th>Humidity</th>\n",
       "      <th>Cloudiness</th>\n",
       "      <th>Wind Speed</th>\n",
       "    </tr>\n",
       "  </thead>\n",
       "  <tbody>\n",
       "    <tr>\n",
       "      <th>0</th>\n",
       "      <td>Hongjiang</td>\n",
       "      <td>27.1100</td>\n",
       "      <td>109.9956</td>\n",
       "      <td>52.57</td>\n",
       "      <td>71</td>\n",
       "      <td>98</td>\n",
       "      <td>0.78</td>\n",
       "    </tr>\n",
       "    <tr>\n",
       "      <th>1</th>\n",
       "      <td>Mataura</td>\n",
       "      <td>-46.1927</td>\n",
       "      <td>168.8643</td>\n",
       "      <td>55.99</td>\n",
       "      <td>95</td>\n",
       "      <td>77</td>\n",
       "      <td>1.01</td>\n",
       "    </tr>\n",
       "    <tr>\n",
       "      <th>2</th>\n",
       "      <td>Longyearbyen</td>\n",
       "      <td>78.2186</td>\n",
       "      <td>15.6401</td>\n",
       "      <td>15.80</td>\n",
       "      <td>73</td>\n",
       "      <td>75</td>\n",
       "      <td>23.02</td>\n",
       "    </tr>\n",
       "    <tr>\n",
       "      <th>3</th>\n",
       "      <td>Ostrovnoy</td>\n",
       "      <td>68.0531</td>\n",
       "      <td>39.5131</td>\n",
       "      <td>11.89</td>\n",
       "      <td>93</td>\n",
       "      <td>89</td>\n",
       "      <td>10.27</td>\n",
       "    </tr>\n",
       "    <tr>\n",
       "      <th>4</th>\n",
       "      <td>Rikitea</td>\n",
       "      <td>-23.1203</td>\n",
       "      <td>-134.9692</td>\n",
       "      <td>80.01</td>\n",
       "      <td>75</td>\n",
       "      <td>6</td>\n",
       "      <td>12.17</td>\n",
       "    </tr>\n",
       "  </tbody>\n",
       "</table>\n",
       "</div>"
      ],
      "text/plain": [
       "           City  Latitude  Longitude  Temperature  Humidity  Cloudiness  \\\n",
       "0     Hongjiang   27.1100   109.9956        52.57        71          98   \n",
       "1       Mataura  -46.1927   168.8643        55.99        95          77   \n",
       "2  Longyearbyen   78.2186    15.6401        15.80        73          75   \n",
       "3     Ostrovnoy   68.0531    39.5131        11.89        93          89   \n",
       "4       Rikitea  -23.1203  -134.9692        80.01        75           6   \n",
       "\n",
       "   Wind Speed  \n",
       "0        0.78  \n",
       "1        1.01  \n",
       "2       23.02  \n",
       "3       10.27  \n",
       "4       12.17  "
      ]
     },
     "execution_count": 6,
     "metadata": {},
     "output_type": "execute_result"
    }
   ],
   "source": [
    "city_df = pd.DataFrame({'City': city_name,\n",
    "                            'Latitude': lat,\n",
    "                            'Longitude': long,\n",
    "                            'Temperature': max_temp,\n",
    "                            'Humidity': humidity,\n",
    "                            'Cloudiness': clouds,\n",
    "                            'Wind Speed': wind_speed})\n",
    "\n",
    "pd.DataFrame.to_csv(city_df, 'city_data.csv')\n",
    "\n",
    "city_df.head()"
   ]
  },
  {
   "cell_type": "code",
   "execution_count": 7,
   "metadata": {},
   "outputs": [
    {
     "data": {
      "text/html": [
       "<div>\n",
       "<style scoped>\n",
       "    .dataframe tbody tr th:only-of-type {\n",
       "        vertical-align: middle;\n",
       "    }\n",
       "\n",
       "    .dataframe tbody tr th {\n",
       "        vertical-align: top;\n",
       "    }\n",
       "\n",
       "    .dataframe thead th {\n",
       "        text-align: right;\n",
       "    }\n",
       "</style>\n",
       "<table border=\"1\" class=\"dataframe\">\n",
       "  <thead>\n",
       "    <tr style=\"text-align: right;\">\n",
       "      <th></th>\n",
       "      <th>City</th>\n",
       "      <th>Latitude</th>\n",
       "      <th>Longitude</th>\n",
       "      <th>Temperature</th>\n",
       "      <th>Humidity</th>\n",
       "      <th>Cloudiness</th>\n",
       "      <th>Wind Speed</th>\n",
       "    </tr>\n",
       "  </thead>\n",
       "  <tbody>\n",
       "    <tr>\n",
       "      <th>0</th>\n",
       "      <td>Hongjiang</td>\n",
       "      <td>27.1100</td>\n",
       "      <td>109.9956</td>\n",
       "      <td>52.57</td>\n",
       "      <td>71</td>\n",
       "      <td>98</td>\n",
       "      <td>0.78</td>\n",
       "    </tr>\n",
       "    <tr>\n",
       "      <th>1</th>\n",
       "      <td>Mataura</td>\n",
       "      <td>-46.1927</td>\n",
       "      <td>168.8643</td>\n",
       "      <td>55.99</td>\n",
       "      <td>95</td>\n",
       "      <td>77</td>\n",
       "      <td>1.01</td>\n",
       "    </tr>\n",
       "    <tr>\n",
       "      <th>2</th>\n",
       "      <td>Longyearbyen</td>\n",
       "      <td>78.2186</td>\n",
       "      <td>15.6401</td>\n",
       "      <td>15.80</td>\n",
       "      <td>73</td>\n",
       "      <td>75</td>\n",
       "      <td>23.02</td>\n",
       "    </tr>\n",
       "    <tr>\n",
       "      <th>3</th>\n",
       "      <td>Ostrovnoy</td>\n",
       "      <td>68.0531</td>\n",
       "      <td>39.5131</td>\n",
       "      <td>11.89</td>\n",
       "      <td>93</td>\n",
       "      <td>89</td>\n",
       "      <td>10.27</td>\n",
       "    </tr>\n",
       "    <tr>\n",
       "      <th>4</th>\n",
       "      <td>Rikitea</td>\n",
       "      <td>-23.1203</td>\n",
       "      <td>-134.9692</td>\n",
       "      <td>80.01</td>\n",
       "      <td>75</td>\n",
       "      <td>6</td>\n",
       "      <td>12.17</td>\n",
       "    </tr>\n",
       "  </tbody>\n",
       "</table>\n",
       "</div>"
      ],
      "text/plain": [
       "           City  Latitude  Longitude  Temperature  Humidity  Cloudiness  \\\n",
       "0     Hongjiang   27.1100   109.9956        52.57        71          98   \n",
       "1       Mataura  -46.1927   168.8643        55.99        95          77   \n",
       "2  Longyearbyen   78.2186    15.6401        15.80        73          75   \n",
       "3     Ostrovnoy   68.0531    39.5131        11.89        93          89   \n",
       "4       Rikitea  -23.1203  -134.9692        80.01        75           6   \n",
       "\n",
       "   Wind Speed  \n",
       "0        0.78  \n",
       "1        1.01  \n",
       "2       23.02  \n",
       "3       10.27  \n",
       "4       12.17  "
      ]
     },
     "execution_count": 7,
     "metadata": {},
     "output_type": "execute_result"
    }
   ],
   "source": [
    "output_file = city_df.to_csv ('output_file.csv', index = None, header=True)\n",
    "city_df.head()"
   ]
  },
  {
   "cell_type": "markdown",
   "metadata": {},
   "source": [
    "## Plotting the Data\n",
    "* Use proper labeling of the plots using plot titles (including date of analysis) and axes labels.\n",
    "* Save the plotted figures as .pngs."
   ]
  },
  {
   "cell_type": "markdown",
   "metadata": {},
   "source": [
    "## Latitude vs. Temperature Plot"
   ]
  },
  {
   "cell_type": "code",
   "execution_count": 8,
   "metadata": {
    "scrolled": false
   },
   "outputs": [
    {
     "data": {
      "image/png": "[encoded data removed]",
      "text/plain": [
       "<Figure size 432x288 with 1 Axes>"
      ]
     },
     "metadata": {
      "needs_background": "light"
     },
     "output_type": "display_data"
    }
   ],
   "source": [
    "plt.scatter(city_df[\"Latitude\"],city_df[\"Temperature\"], facecolor = \"steelblue\", edgecolor = \"black\")\n",
    "\n",
    "plt.title(\"City Latitude vs. Max Temperature (04/01/20)\")\n",
    "plt.xlabel(\"Laitude\")\n",
    "plt.ylabel(\"Max Temperature (F)\")\n",
    "\n",
    "plt.grid(linestyle='-', linewidth=1, alpha = 0.5)"
   ]
  },
  {
   "cell_type": "markdown",
   "metadata": {},
   "source": [
    "## Latitude vs. Humidity Plot"
   ]
  },
  {
   "cell_type": "code",
   "execution_count": 17,
   "metadata": {},
   "outputs": [
    {
     "data": {
      "image/png": "[encoded data removed]",
      "text/plain": [
       "<Figure size 432x288 with 1 Axes>"
      ]
     },
     "metadata": {
      "needs_background": "light"
     },
     "output_type": "display_data"
    }
   ],
   "source": [
    "plt.scatter(city_df[\"Latitude\"],city_df[\"Humidity\"], facecolor = \"steelblue\", edgecolor = \"black\")\n",
    "\n",
    "plt.title(\"City Latitude vs. Humidity (04/01/20)\")\n",
    "plt.xlabel(\"Laitude\")\n",
    "plt.ylabel(\"Humidity (%)\")\n",
    "\n",
    "plt.grid(linestyle='-', linewidth=1, alpha = 0.5)"
   ]
  },
  {
   "cell_type": "markdown",
   "metadata": {},
   "source": [
    "## Latitude vs. Cloudiness Plot"
   ]
  },
  {
   "cell_type": "code",
   "execution_count": 15,
   "metadata": {},
   "outputs": [
    {
     "data": {
      "image/png": "[encoded data removed]",
      "text/plain": [
       "<Figure size 432x288 with 1 Axes>"
      ]
     },
     "metadata": {
      "needs_background": "light"
     },
     "output_type": "display_data"
    }
   ],
   "source": [
    "plt.scatter(city_df[\"Latitude\"],city_df[\"Cloudiness\"], facecolor = \"steelblue\", edgecolor = \"black\")\n",
    "\n",
    "plt.title(\"City Latitude vs. Cloudiness (04/01/20)\")\n",
    "plt.xlabel(\"Laitude\")\n",
    "plt.ylabel(\"Cloudiness (%)\")\n",
    "\n",
    "plt.grid(linestyle='-', linewidth=1, alpha = 0.5)"
   ]
  },
  {
   "cell_type": "markdown",
   "metadata": {},
   "source": [
    "## Latitude vs. Wind Speed Plot"
   ]
  },
  {
   "cell_type": "code",
   "execution_count": 16,
   "metadata": {},
   "outputs": [
    {
     "data": {
      "image/png": "[encoded data removed]",
      "text/plain": [
       "<Figure size 432x288 with 1 Axes>"
      ]
     },
     "metadata": {
      "needs_background": "light"
     },
     "output_type": "display_data"
    }
   ],
   "source": [
    "plt.scatter(city_df[\"Latitude\"],city_df[\"Wind Speed\"], facecolor = \"steelblue\", edgecolor = \"black\")\n",
    "\n",
    "plt.title(\"City Latitude vs. Wind Speed (04/01/20)\")\n",
    "plt.xlabel(\"Laitude\")\n",
    "plt.ylabel(\"Wind Speed (mph)\")\n",
    "\n",
    "plt.grid(linestyle='-', linewidth=1, alpha = 0.5)"
   ]
  },
  {
   "cell_type": "markdown",
   "metadata": {},
   "source": [
    "## Linear Regression"
   ]
  },
  {
   "cell_type": "code",
   "execution_count": 24,
   "metadata": {},
   "outputs": [],
   "source": [
    "Northern_Hemisphere = city_df.loc[city_df[\"Latitude\"] >= 0]\n",
    "Southern_Hemisphere = city_df.loc[city_df[\"Latitude\"] < 0]"
   ]
  },
  {
   "cell_type": "code",
   "execution_count": 25,
   "metadata": {},
   "outputs": [],
   "source": [
    "def linear_regression(x,y):\n",
    "    (slope, intercept, rvalue, pvalue, stderr) = linregress(x,y)\n",
    "    regress_values = x * slope + intercept\n",
    "    line_eq = \"y = \" + str(round(slope,2)) + \"x + \" + str(round(intercept,2))\n",
    "    plt.scatter(x,y)\n",
    "    plt.plot(x,regress_values,\"r-\")\n",
    "    plt.annotate(line_eq,(x.median(),y.median()),fontsize=14,color=\"red\")\n",
    "    plt.xlabel(\"Latitude\")\n",
    "    print(f\"The r-squared is: {rvalue}\")"
   ]
  },
  {
   "cell_type": "markdown",
   "metadata": {},
   "source": [
    "####  Northern Hemisphere - Max Temp vs. Latitude Linear Regression"
   ]
  },
  {
   "cell_type": "code",
   "execution_count": 27,
   "metadata": {},
   "outputs": [
    {
     "name": "stdout",
     "output_type": "stream",
     "text": [
      "The r-squared is: -0.9039578321332669\n",
      "None\n"
     ]
    },
    {
     "data": {
      "image/png": "[encoded data removed]",
      "text/plain": [
       "<Figure size 432x288 with 1 Axes>"
      ]
     },
     "metadata": {
      "needs_background": "light"
     },
     "output_type": "display_data"
    }
   ],
   "source": [
    "x = Northern_Hemisphere[\"Latitude\"]\n",
    "y = Northern_Hemisphere[\"Temperature\"]\n",
    "plt.ylabel(\"Temperature (F)\")\n",
    "print(linear_regression(x,y))"
   ]
  },
  {
   "cell_type": "code",
   "execution_count": null,
   "metadata": {},
   "outputs": [],
   "source": [
    "#There is a strong negative correlation between latitude and max temperature for northern hemisphere."
   ]
  },
  {
   "cell_type": "markdown",
   "metadata": {},
   "source": [
    "####  Southern Hemisphere - Max Temp vs. Latitude Linear Regression"
   ]
  },
  {
   "cell_type": "code",
   "execution_count": 28,
   "metadata": {},
   "outputs": [
    {
     "name": "stdout",
     "output_type": "stream",
     "text": [
      "The r-squared is: 0.7618508628809495\n",
      "None\n"
     ]
    },
    {
     "data": {
      "image/png": "[encoded data removed]",
      "text/plain": [
       "<Figure size 432x288 with 1 Axes>"
      ]
     },
     "metadata": {
      "needs_background": "light"
     },
     "output_type": "display_data"
    }
   ],
   "source": [
    "x = Southern_Hemisphere[\"Latitude\"]\n",
    "y = Southern_Hemisphere[\"Temperature\"]\n",
    "plt.ylabel(\"Max Temp (F)\")\n",
    "print(linear_regression(x,y))"
   ]
  },
  {
   "cell_type": "code",
   "execution_count": null,
   "metadata": {},
   "outputs": [],
   "source": [
    "#There is a moderate positive correlation between latitude and max temperature for southern hemisphere."
   ]
  },
  {
   "cell_type": "markdown",
   "metadata": {},
   "source": [
    "####  Northern Hemisphere - Humidity (%) vs. Latitude Linear Regression"
   ]
  },
  {
   "cell_type": "code",
   "execution_count": 29,
   "metadata": {
    "scrolled": true
   },
   "outputs": [
    {
     "name": "stdout",
     "output_type": "stream",
     "text": [
      "The r-squared is: 0.1332126077755634\n",
      "None\n"
     ]
    },
    {
     "data": {
      "image/png": "[encoded data removed]",
      "text/plain": [
       "<Figure size 432x288 with 1 Axes>"
      ]
     },
     "metadata": {
      "needs_background": "light"
     },
     "output_type": "display_data"
    }
   ],
   "source": [
    "x = Northern_Hemisphere[\"Latitude\"]\n",
    "y = Northern_Hemisphere[\"Humidity\"]\n",
    "plt.ylabel(\"Humidity (%)\")\n",
    "print(linear_regression(x,y))"
   ]
  },
  {
   "cell_type": "code",
   "execution_count": null,
   "metadata": {},
   "outputs": [],
   "source": [
    "#There is a weak positive correlation between latitude and humidity for northern hemisphere."
   ]
  },
  {
   "cell_type": "markdown",
   "metadata": {},
   "source": [
    "####  Southern Hemisphere - Humidity (%) vs. Latitude Linear Regression"
   ]
  },
  {
   "cell_type": "code",
   "execution_count": 31,
   "metadata": {},
   "outputs": [
    {
     "name": "stdout",
     "output_type": "stream",
     "text": [
      "The r-squared is: 0.13365385774791214\n",
      "None\n"
     ]
    },
    {
     "data": {
      "image/png": "[encoded data removed]",
      "text/plain": [
       "<Figure size 432x288 with 1 Axes>"
      ]
     },
     "metadata": {
      "needs_background": "light"
     },
     "output_type": "display_data"
    }
   ],
   "source": [
    "x = Southern_Hemisphere[\"Latitude\"]\n",
    "y = Southern_Hemisphere[\"Humidity\"]\n",
    "plt.ylabel(\"Humidity (%)\")\n",
    "print(linear_regression(x,y))"
   ]
  },
  {
   "cell_type": "code",
   "execution_count": null,
   "metadata": {},
   "outputs": [],
   "source": [
    "#There is a weak positive correlation between latitude and humidity for southern hemisphere."
   ]
  },
  {
   "cell_type": "markdown",
   "metadata": {},
   "source": [
    "####  Northern Hemisphere - Cloudiness (%) vs. Latitude Linear Regression"
   ]
  },
  {
   "cell_type": "code",
   "execution_count": 32,
   "metadata": {},
   "outputs": [
    {
     "name": "stdout",
     "output_type": "stream",
     "text": [
      "The r-squared is: 0.05467583387901466\n",
      "None\n"
     ]
    },
    {
     "data": {
      "image/png": "[encoded data removed]",
      "text/plain": [
       "<Figure size 432x288 with 1 Axes>"
      ]
     },
     "metadata": {
      "needs_background": "light"
     },
     "output_type": "display_data"
    }
   ],
   "source": [
    "x = Northern_Hemisphere[\"Latitude\"]\n",
    "y = Northern_Hemisphere[\"Cloudiness\"]\n",
    "plt.ylabel(\"Cloudiness (%)\")\n",
    "print(linear_regression(x,y))"
   ]
  },
  {
   "cell_type": "code",
   "execution_count": null,
   "metadata": {},
   "outputs": [],
   "source": [
    "#There is a weak positive correlation between latitude and cloudiness for northern hemisphere."
   ]
  },
  {
   "cell_type": "markdown",
   "metadata": {},
   "source": [
    "####  Southern Hemisphere - Cloudiness (%) vs. Latitude Linear Regression"
   ]
  },
  {
   "cell_type": "code",
   "execution_count": 33,
   "metadata": {},
   "outputs": [
    {
     "name": "stdout",
     "output_type": "stream",
     "text": [
      "The r-squared is: 0.11791839176792412\n",
      "None\n"
     ]
    },
    {
     "data": {
      "image/png": "[encoded data removed]",
      "text/plain": [
       "<Figure size 432x288 with 1 Axes>"
      ]
     },
     "metadata": {
      "needs_background": "light"
     },
     "output_type": "display_data"
    }
   ],
   "source": [
    "x = Southern_Hemisphere[\"Latitude\"]\n",
    "y = Southern_Hemisphere[\"Cloudiness\"]\n",
    "plt.ylabel(\"Cloudiness (%)\")\n",
    "print(linear_regression(x,y))"
   ]
  },
  {
   "cell_type": "code",
   "execution_count": null,
   "metadata": {},
   "outputs": [],
   "source": [
    "#There is a weak positive correlation between latitude and cloudiness for southern hemisphere."
   ]
  },
  {
   "cell_type": "markdown",
   "metadata": {},
   "source": [
    "####  Northern Hemisphere - Wind Speed (mph) vs. Latitude Linear Regression"
   ]
  },
  {
   "cell_type": "code",
   "execution_count": 36,
   "metadata": {},
   "outputs": [
    {
     "name": "stdout",
     "output_type": "stream",
     "text": [
      "The r-squared is: 0.05135621333711115\n",
      "None\n"
     ]
    },
    {
     "data": {
      "image/png": "[encoded data removed]",
      "text/plain": [
       "<Figure size 432x288 with 1 Axes>"
      ]
     },
     "metadata": {
      "needs_background": "light"
     },
     "output_type": "display_data"
    }
   ],
   "source": [
    "x = Northern_Hemisphere[\"Latitude\"]\n",
    "y = Northern_Hemisphere[\"Wind Speed\"]\n",
    "plt.ylabel(\"Wind Speed (mph)\")\n",
    "print(linear_regression(x,y))"
   ]
  },
  {
   "cell_type": "code",
   "execution_count": null,
   "metadata": {},
   "outputs": [],
   "source": [
    "#There is a weak positive correlation between latitude and windspeed for northern hemisphere."
   ]
  },
  {
   "cell_type": "markdown",
   "metadata": {},
   "source": [
    "####  Southern Hemisphere - Wind Speed (mph) vs. Latitude Linear Regression"
   ]
  },
  {
   "cell_type": "code",
   "execution_count": 37,
   "metadata": {},
   "outputs": [
    {
     "name": "stdout",
     "output_type": "stream",
     "text": [
      "The r-squared is: -0.1730793300229451\n",
      "None\n"
     ]
    },
    {
     "data": {
      "image/png": "[encoded data removed]",
      "text/plain": [
       "<Figure size 432x288 with 1 Axes>"
      ]
     },
     "metadata": {
      "needs_background": "light"
     },
     "output_type": "display_data"
    }
   ],
   "source": [
    "x = Southern_Hemisphere[\"Latitude\"]\n",
    "y = Southern_Hemisphere[\"Wind Speed\"]\n",
    "plt.ylabel(\"Wind Speed (mph)\")\n",
    "print(linear_regression(x,y))"
   ]
  },
  {
   "cell_type": "code",
   "execution_count": null,
   "metadata": {},
   "outputs": [],
   "source": [
    "#There is a weak negative correlation between latitude and wind speed for southern hemisphere."
   ]
  }
 ],
 "metadata": {
  "anaconda-cloud": {},
  "kernel_info": {
   "name": "python3"
  },
  "kernelspec": {
   "display_name": "Python 3",
   "language": "python",
   "name": "python3"
  },
  "language_info": {
   "codemirror_mode": {
    "name": "ipython",
    "version": 3
   },
   "file_extension": ".py",
   "mimetype": "text/x-python",
   "name": "python",
   "nbconvert_exporter": "python",
   "pygments_lexer": "ipython3",
   "version": "3.8.5"
  },
  "latex_envs": {
   "LaTeX_envs_menu_present": true,
   "autoclose": false,
   "autocomplete": true,
   "bibliofile": "biblio.bib",
   "cite_by": "apalike",
   "current_citInitial": 1,
   "eqLabelWithNumbers": true,
   "eqNumInitial": 1,
   "hotkeys": {
    "equation": "Ctrl-E",
    "itemize": "Ctrl-I"
   },
   "labels_anchors": false,
   "latex_user_defs": false,
   "report_style_numbering": false,
   "user_envs_cfg": false
  },
  "nteract": {
   "version": "0.12.3"
  }
 },
 "nbformat": 4,
 "nbformat_minor": 2
}
